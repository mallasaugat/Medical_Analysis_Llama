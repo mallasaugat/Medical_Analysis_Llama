{
 "cells": [
  {
   "cell_type": "markdown",
   "metadata": {},
   "source": [
    "### Imports"
   ]
  },
  {
   "cell_type": "code",
   "execution_count": 207,
   "metadata": {},
   "outputs": [],
   "source": [
    "import numpy as np\n",
    "import pandas as pd\n",
    "import os\n",
    "from tqdm import tqdm\n",
    "import bitsandbytes as bnb\n",
    "import torch\n",
    "import torch.nn as nn\n",
    "import transformers\n",
    "from datasets import Dataset\n",
    "from peft import LoraConfig, PeftConfig\n",
    "from trl import SFTTrainer\n",
    "from trl import setup_chat_format\n",
    "from transformers import (AutoModelForCausalLM, \n",
    "                          LlamaForSequenceClassification,\n",
    "                          AutoTokenizer, \n",
    "                          BitsAndBytesConfig, \n",
    "                          TrainingArguments, \n",
    "                          pipeline, \n",
    "                          logging)\n",
    "from sklearn.metrics import (accuracy_score, \n",
    "                             classification_report, \n",
    "                             confusion_matrix)\n",
    "from sklearn.model_selection import train_test_split"
   ]
  },
  {
   "cell_type": "markdown",
   "metadata": {},
   "source": [
    "### Loading and processing the dataset"
   ]
  },
  {
   "cell_type": "code",
   "execution_count": 208,
   "metadata": {},
   "outputs": [
    {
     "data": {
      "text/html": [
       "<div>\n",
       "<style scoped>\n",
       "    .dataframe tbody tr th:only-of-type {\n",
       "        vertical-align: middle;\n",
       "    }\n",
       "\n",
       "    .dataframe tbody tr th {\n",
       "        vertical-align: top;\n",
       "    }\n",
       "\n",
       "    .dataframe thead th {\n",
       "        text-align: right;\n",
       "    }\n",
       "</style>\n",
       "<table border=\"1\" class=\"dataframe\">\n",
       "  <thead>\n",
       "    <tr style=\"text-align: right;\">\n",
       "      <th></th>\n",
       "      <th>Statement</th>\n",
       "      <th>NoShow</th>\n",
       "    </tr>\n",
       "  </thead>\n",
       "  <tbody>\n",
       "    <tr>\n",
       "      <th>0</th>\n",
       "      <td>Patient Information:\\n- Gender: Female\\n- Age:...</td>\n",
       "      <td>No</td>\n",
       "    </tr>\n",
       "    <tr>\n",
       "      <th>1</th>\n",
       "      <td>Patient Information:\\n- Gender: Male\\n- Age: 5...</td>\n",
       "      <td>No</td>\n",
       "    </tr>\n",
       "    <tr>\n",
       "      <th>2</th>\n",
       "      <td>Patient Information:\\n- Gender: Female\\n- Age:...</td>\n",
       "      <td>No</td>\n",
       "    </tr>\n",
       "    <tr>\n",
       "      <th>3</th>\n",
       "      <td>Patient Information:\\n- Gender: Female\\n- Age:...</td>\n",
       "      <td>No</td>\n",
       "    </tr>\n",
       "    <tr>\n",
       "      <th>4</th>\n",
       "      <td>Patient Information:\\n- Gender: Female\\n- Age:...</td>\n",
       "      <td>No</td>\n",
       "    </tr>\n",
       "  </tbody>\n",
       "</table>\n",
       "</div>"
      ],
      "text/plain": [
       "                                           Statement NoShow\n",
       "0  Patient Information:\\n- Gender: Female\\n- Age:...     No\n",
       "1  Patient Information:\\n- Gender: Male\\n- Age: 5...     No\n",
       "2  Patient Information:\\n- Gender: Female\\n- Age:...     No\n",
       "3  Patient Information:\\n- Gender: Female\\n- Age:...     No\n",
       "4  Patient Information:\\n- Gender: Female\\n- Age:...     No"
      ]
     },
     "execution_count": 208,
     "metadata": {},
     "output_type": "execute_result"
    }
   ],
   "source": [
    "df = pd.read_csv(\"datasets/md-data-statement.csv\")\n",
    "df.head()"
   ]
  },
  {
   "cell_type": "code",
   "execution_count": 209,
   "metadata": {},
   "outputs": [],
   "source": [
    "yes_df = df[df['NoShow'] == 'Yes']\n",
    "no_df = df[df['NoShow'] == 'No']\n",
    "\n",
    "min_count = min(len(yes_df), len(no_df), 5000)\n",
    "\n",
    "yes_sample = yes_df.sample(n=min_count, random_state=42)\n",
    "no_sample = no_df.sample(n=min_count, random_state=42)\n",
    "\n",
    "balanced_df = pd.concat([yes_sample, no_sample]).reset_index(drop=True)\n",
    "\n",
    "df = balanced_df.sample(frac=1, random_state=42).reset_index(drop=True)"
   ]
  },
  {
   "cell_type": "code",
   "execution_count": 210,
   "metadata": {},
   "outputs": [],
   "source": [
    "# Split the DataFrame\n",
    "train_size = 0.7\n",
    "eval_size = 0.2\n",
    "\n",
    "# Calculate sizes\n",
    "train_end = int(train_size * len(df))\n",
    "eval_end = train_end + int(eval_size * len(df))\n",
    "\n",
    "# Split the data\n",
    "X_train = df[:train_end]\n",
    "X_eval = df[train_end:eval_end]\n",
    "X_test = df[eval_end:]"
   ]
  },
  {
   "cell_type": "code",
   "execution_count": 211,
   "metadata": {},
   "outputs": [
    {
     "name": "stderr",
     "output_type": "stream",
     "text": [
      "/usr/lib/python3/dist-packages/pandas/core/indexing.py:1667: SettingWithCopyWarning: \n",
      "A value is trying to be set on a copy of a slice from a DataFrame.\n",
      "Try using .loc[row_indexer,col_indexer] = value instead\n",
      "\n",
      "See the caveats in the documentation: https://pandas.pydata.org/pandas-docs/stable/user_guide/indexing.html#returning-a-view-versus-a-copy\n",
      "  self.obj[key] = value\n"
     ]
    }
   ],
   "source": [
    "def generate_prompt(data_point):\n",
    "    return f\"\"\"\n",
    "    Patient Information: Gender, Age, Appointment Date, Scheduled For, Medical Conditions, Hypertension, Diabetes, Alcoholism, Handicap, SMS Reminder Sent.\n",
    "    \n",
    "    Based on the information provided above, determine whether the patient will show up for their appointment.\n",
    "    \n",
    "    **Important Notes**:\n",
    "    - Consider the patient's medical conditions and reminders received.\n",
    "    - Focus on any patterns that might indicate a no-show, such as chronic conditions or missed reminders.\n",
    "\n",
    "    Your response should be in the following format:\n",
    "    - **Label**: \"Yes\" if the patient will not show up, or \"No\" if they will show up.\n",
    "\n",
    "    Example Output:\n",
    "    - text: {data_point[\"Statement\"]}\n",
    "    - label: {data_point[\"NoShow\"]} \"\"\".strip()\n",
    "\n",
    "def generate_test_prompt(data_point):\n",
    "    return f\"\"\" \n",
    "    Patient Information: Gender, Age, Appointment Date, Scheduled For, Medical Conditions, Hypertension, Diabetes, Alcoholism, Handicap, SMS Reminder Sent.\n",
    "    \n",
    "    Based on the information provided above, determine whether the patient will show up for their appointment.\n",
    "    \n",
    "    **Important Notes**:\n",
    "    - Consider the patient's medical conditions and reminders received.\n",
    "    - Focus on any patterns that might indicate a no-show, such as chronic conditions or missed reminders.\n",
    "\n",
    "    Your response should be in the following format:\n",
    "    - **Label**: \"Yes\" if the patient will not show up, or \"No\" if they will show up.\n",
    "\n",
    "    Example Output:\n",
    "    - text: {data_point[\"Statement\"]}\n",
    "    - label: \"\"\".strip()\n",
    "\n",
    "# Generate prompts for training and evaluation data\n",
    "X_train.loc[:,'text'] = X_train.apply(generate_prompt, axis=1)\n",
    "X_eval.loc[:,'text'] = X_eval.apply(generate_prompt, axis=1)\n",
    "\n",
    "# Generate test prompts and extract true labels\n",
    "y_true = X_test.loc[:,'NoShow']\n",
    "X_test = pd.DataFrame(X_test.apply(generate_test_prompt, axis=1), columns=[\"text\"])\n"
   ]
  },
  {
   "cell_type": "code",
   "execution_count": 212,
   "metadata": {},
   "outputs": [
    {
     "data": {
      "text/html": [
       "<div>\n",
       "<style scoped>\n",
       "    .dataframe tbody tr th:only-of-type {\n",
       "        vertical-align: middle;\n",
       "    }\n",
       "\n",
       "    .dataframe tbody tr th {\n",
       "        vertical-align: top;\n",
       "    }\n",
       "\n",
       "    .dataframe thead th {\n",
       "        text-align: right;\n",
       "    }\n",
       "</style>\n",
       "<table border=\"1\" class=\"dataframe\">\n",
       "  <thead>\n",
       "    <tr style=\"text-align: right;\">\n",
       "      <th></th>\n",
       "      <th>Statement</th>\n",
       "      <th>NoShow</th>\n",
       "      <th>text</th>\n",
       "    </tr>\n",
       "  </thead>\n",
       "  <tbody>\n",
       "    <tr>\n",
       "      <th>0</th>\n",
       "      <td>Patient Information:\\n- Gender: Female\\n- Age:...</td>\n",
       "      <td>No</td>\n",
       "      <td>Patient Information: Gender, Age, Appointment ...</td>\n",
       "    </tr>\n",
       "    <tr>\n",
       "      <th>1</th>\n",
       "      <td>Patient Information:\\n- Gender: Male\\n- Age: 7...</td>\n",
       "      <td>Yes</td>\n",
       "      <td>Patient Information: Gender, Age, Appointment ...</td>\n",
       "    </tr>\n",
       "    <tr>\n",
       "      <th>2</th>\n",
       "      <td>Patient Information:\\n- Gender: Female\\n- Age:...</td>\n",
       "      <td>Yes</td>\n",
       "      <td>Patient Information: Gender, Age, Appointment ...</td>\n",
       "    </tr>\n",
       "    <tr>\n",
       "      <th>3</th>\n",
       "      <td>Patient Information:\\n- Gender: Female\\n- Age:...</td>\n",
       "      <td>Yes</td>\n",
       "      <td>Patient Information: Gender, Age, Appointment ...</td>\n",
       "    </tr>\n",
       "    <tr>\n",
       "      <th>4</th>\n",
       "      <td>Patient Information:\\n- Gender: Female\\n- Age:...</td>\n",
       "      <td>Yes</td>\n",
       "      <td>Patient Information: Gender, Age, Appointment ...</td>\n",
       "    </tr>\n",
       "    <tr>\n",
       "      <th>...</th>\n",
       "      <td>...</td>\n",
       "      <td>...</td>\n",
       "      <td>...</td>\n",
       "    </tr>\n",
       "    <tr>\n",
       "      <th>6995</th>\n",
       "      <td>Patient Information:\\n- Gender: Female\\n- Age:...</td>\n",
       "      <td>Yes</td>\n",
       "      <td>Patient Information: Gender, Age, Appointment ...</td>\n",
       "    </tr>\n",
       "    <tr>\n",
       "      <th>6996</th>\n",
       "      <td>Patient Information:\\n- Gender: Female\\n- Age:...</td>\n",
       "      <td>No</td>\n",
       "      <td>Patient Information: Gender, Age, Appointment ...</td>\n",
       "    </tr>\n",
       "    <tr>\n",
       "      <th>6997</th>\n",
       "      <td>Patient Information:\\n- Gender: Male\\n- Age: 3...</td>\n",
       "      <td>Yes</td>\n",
       "      <td>Patient Information: Gender, Age, Appointment ...</td>\n",
       "    </tr>\n",
       "    <tr>\n",
       "      <th>6998</th>\n",
       "      <td>Patient Information:\\n- Gender: Male\\n- Age: 4...</td>\n",
       "      <td>Yes</td>\n",
       "      <td>Patient Information: Gender, Age, Appointment ...</td>\n",
       "    </tr>\n",
       "    <tr>\n",
       "      <th>6999</th>\n",
       "      <td>Patient Information:\\n- Gender: Female\\n- Age:...</td>\n",
       "      <td>No</td>\n",
       "      <td>Patient Information: Gender, Age, Appointment ...</td>\n",
       "    </tr>\n",
       "  </tbody>\n",
       "</table>\n",
       "<p>7000 rows × 3 columns</p>\n",
       "</div>"
      ],
      "text/plain": [
       "                                              Statement NoShow  \\\n",
       "0     Patient Information:\\n- Gender: Female\\n- Age:...     No   \n",
       "1     Patient Information:\\n- Gender: Male\\n- Age: 7...    Yes   \n",
       "2     Patient Information:\\n- Gender: Female\\n- Age:...    Yes   \n",
       "3     Patient Information:\\n- Gender: Female\\n- Age:...    Yes   \n",
       "4     Patient Information:\\n- Gender: Female\\n- Age:...    Yes   \n",
       "...                                                 ...    ...   \n",
       "6995  Patient Information:\\n- Gender: Female\\n- Age:...    Yes   \n",
       "6996  Patient Information:\\n- Gender: Female\\n- Age:...     No   \n",
       "6997  Patient Information:\\n- Gender: Male\\n- Age: 3...    Yes   \n",
       "6998  Patient Information:\\n- Gender: Male\\n- Age: 4...    Yes   \n",
       "6999  Patient Information:\\n- Gender: Female\\n- Age:...     No   \n",
       "\n",
       "                                                   text  \n",
       "0     Patient Information: Gender, Age, Appointment ...  \n",
       "1     Patient Information: Gender, Age, Appointment ...  \n",
       "2     Patient Information: Gender, Age, Appointment ...  \n",
       "3     Patient Information: Gender, Age, Appointment ...  \n",
       "4     Patient Information: Gender, Age, Appointment ...  \n",
       "...                                                 ...  \n",
       "6995  Patient Information: Gender, Age, Appointment ...  \n",
       "6996  Patient Information: Gender, Age, Appointment ...  \n",
       "6997  Patient Information: Gender, Age, Appointment ...  \n",
       "6998  Patient Information: Gender, Age, Appointment ...  \n",
       "6999  Patient Information: Gender, Age, Appointment ...  \n",
       "\n",
       "[7000 rows x 3 columns]"
      ]
     },
     "execution_count": 212,
     "metadata": {},
     "output_type": "execute_result"
    }
   ],
   "source": [
    "X_train"
   ]
  },
  {
   "cell_type": "code",
   "execution_count": 213,
   "metadata": {},
   "outputs": [
    {
     "data": {
      "text/html": [
       "<div>\n",
       "<style scoped>\n",
       "    .dataframe tbody tr th:only-of-type {\n",
       "        vertical-align: middle;\n",
       "    }\n",
       "\n",
       "    .dataframe tbody tr th {\n",
       "        vertical-align: top;\n",
       "    }\n",
       "\n",
       "    .dataframe thead th {\n",
       "        text-align: right;\n",
       "    }\n",
       "</style>\n",
       "<table border=\"1\" class=\"dataframe\">\n",
       "  <thead>\n",
       "    <tr style=\"text-align: right;\">\n",
       "      <th></th>\n",
       "      <th>Statement</th>\n",
       "      <th>NoShow</th>\n",
       "      <th>text</th>\n",
       "    </tr>\n",
       "  </thead>\n",
       "  <tbody>\n",
       "    <tr>\n",
       "      <th>0</th>\n",
       "      <td>Patient Information:\\n- Gender: Female\\n- Age:...</td>\n",
       "      <td>No</td>\n",
       "      <td>Patient Information: Gender, Age, Appointment ...</td>\n",
       "    </tr>\n",
       "    <tr>\n",
       "      <th>1</th>\n",
       "      <td>Patient Information:\\n- Gender: Male\\n- Age: 7...</td>\n",
       "      <td>Yes</td>\n",
       "      <td>Patient Information: Gender, Age, Appointment ...</td>\n",
       "    </tr>\n",
       "    <tr>\n",
       "      <th>2</th>\n",
       "      <td>Patient Information:\\n- Gender: Female\\n- Age:...</td>\n",
       "      <td>Yes</td>\n",
       "      <td>Patient Information: Gender, Age, Appointment ...</td>\n",
       "    </tr>\n",
       "    <tr>\n",
       "      <th>3</th>\n",
       "      <td>Patient Information:\\n- Gender: Female\\n- Age:...</td>\n",
       "      <td>Yes</td>\n",
       "      <td>Patient Information: Gender, Age, Appointment ...</td>\n",
       "    </tr>\n",
       "    <tr>\n",
       "      <th>4</th>\n",
       "      <td>Patient Information:\\n- Gender: Female\\n- Age:...</td>\n",
       "      <td>Yes</td>\n",
       "      <td>Patient Information: Gender, Age, Appointment ...</td>\n",
       "    </tr>\n",
       "    <tr>\n",
       "      <th>...</th>\n",
       "      <td>...</td>\n",
       "      <td>...</td>\n",
       "      <td>...</td>\n",
       "    </tr>\n",
       "    <tr>\n",
       "      <th>6995</th>\n",
       "      <td>Patient Information:\\n- Gender: Female\\n- Age:...</td>\n",
       "      <td>Yes</td>\n",
       "      <td>Patient Information: Gender, Age, Appointment ...</td>\n",
       "    </tr>\n",
       "    <tr>\n",
       "      <th>6996</th>\n",
       "      <td>Patient Information:\\n- Gender: Female\\n- Age:...</td>\n",
       "      <td>No</td>\n",
       "      <td>Patient Information: Gender, Age, Appointment ...</td>\n",
       "    </tr>\n",
       "    <tr>\n",
       "      <th>6997</th>\n",
       "      <td>Patient Information:\\n- Gender: Male\\n- Age: 3...</td>\n",
       "      <td>Yes</td>\n",
       "      <td>Patient Information: Gender, Age, Appointment ...</td>\n",
       "    </tr>\n",
       "    <tr>\n",
       "      <th>6998</th>\n",
       "      <td>Patient Information:\\n- Gender: Male\\n- Age: 4...</td>\n",
       "      <td>Yes</td>\n",
       "      <td>Patient Information: Gender, Age, Appointment ...</td>\n",
       "    </tr>\n",
       "    <tr>\n",
       "      <th>6999</th>\n",
       "      <td>Patient Information:\\n- Gender: Female\\n- Age:...</td>\n",
       "      <td>No</td>\n",
       "      <td>Patient Information: Gender, Age, Appointment ...</td>\n",
       "    </tr>\n",
       "  </tbody>\n",
       "</table>\n",
       "<p>7000 rows × 3 columns</p>\n",
       "</div>"
      ],
      "text/plain": [
       "                                              Statement NoShow  \\\n",
       "0     Patient Information:\\n- Gender: Female\\n- Age:...     No   \n",
       "1     Patient Information:\\n- Gender: Male\\n- Age: 7...    Yes   \n",
       "2     Patient Information:\\n- Gender: Female\\n- Age:...    Yes   \n",
       "3     Patient Information:\\n- Gender: Female\\n- Age:...    Yes   \n",
       "4     Patient Information:\\n- Gender: Female\\n- Age:...    Yes   \n",
       "...                                                 ...    ...   \n",
       "6995  Patient Information:\\n- Gender: Female\\n- Age:...    Yes   \n",
       "6996  Patient Information:\\n- Gender: Female\\n- Age:...     No   \n",
       "6997  Patient Information:\\n- Gender: Male\\n- Age: 3...    Yes   \n",
       "6998  Patient Information:\\n- Gender: Male\\n- Age: 4...    Yes   \n",
       "6999  Patient Information:\\n- Gender: Female\\n- Age:...     No   \n",
       "\n",
       "                                                   text  \n",
       "0     Patient Information: Gender, Age, Appointment ...  \n",
       "1     Patient Information: Gender, Age, Appointment ...  \n",
       "2     Patient Information: Gender, Age, Appointment ...  \n",
       "3     Patient Information: Gender, Age, Appointment ...  \n",
       "4     Patient Information: Gender, Age, Appointment ...  \n",
       "...                                                 ...  \n",
       "6995  Patient Information: Gender, Age, Appointment ...  \n",
       "6996  Patient Information: Gender, Age, Appointment ...  \n",
       "6997  Patient Information: Gender, Age, Appointment ...  \n",
       "6998  Patient Information: Gender, Age, Appointment ...  \n",
       "6999  Patient Information: Gender, Age, Appointment ...  \n",
       "\n",
       "[7000 rows x 3 columns]"
      ]
     },
     "execution_count": 213,
     "metadata": {},
     "output_type": "execute_result"
    }
   ],
   "source": [
    "X_train"
   ]
  },
  {
   "cell_type": "code",
   "execution_count": 214,
   "metadata": {},
   "outputs": [
    {
     "data": {
      "text/plain": [
       "Yes    3554\n",
       "No     3446\n",
       "Name: NoShow, dtype: int64"
      ]
     },
     "execution_count": 214,
     "metadata": {},
     "output_type": "execute_result"
    }
   ],
   "source": [
    "X_train.NoShow.value_counts()"
   ]
  },
  {
   "cell_type": "code",
   "execution_count": 215,
   "metadata": {},
   "outputs": [
    {
     "data": {
      "text/plain": [
       "No     519\n",
       "Yes    481\n",
       "Name: NoShow, dtype: int64"
      ]
     },
     "execution_count": 215,
     "metadata": {},
     "output_type": "execute_result"
    }
   ],
   "source": [
    "y_true.value_counts()"
   ]
  },
  {
   "cell_type": "markdown",
   "metadata": {},
   "source": [
    "### Convert to datasets"
   ]
  },
  {
   "cell_type": "code",
   "execution_count": 216,
   "metadata": {},
   "outputs": [],
   "source": [
    "train_data = Dataset.from_pandas(X_train[['text']])\n",
    "eval_data = Dataset.from_pandas(X_eval[['text']])"
   ]
  },
  {
   "cell_type": "code",
   "execution_count": 217,
   "metadata": {},
   "outputs": [
    {
     "data": {
      "text/plain": [
       "'Patient Information: Gender, Age, Appointment Date, Scheduled For, Medical Conditions, Hypertension, Diabetes, Alcoholism, Handicap, SMS Reminder Sent.\\n    \\n    Based on the information provided above, determine whether the patient will show up for their appointment.\\n    \\n    **Important Notes**:\\n    - Consider the patient\\'s medical conditions and reminders received.\\n    - Focus on any patterns that might indicate a no-show, such as chronic conditions or missed reminders.\\n\\n    Your response should be in the following format:\\n    - **Label**: \"Yes\" if the patient will not show up, or \"No\" if they will show up.\\n\\n    Example Output:\\n    - text: Patient Information:\\n- Gender: Male\\n- Age: 7\\n- Appointment Date: 2016-06-08T07:41:10Z\\n- Scheduled For: 2016-06-08T00:00:00Z\\n- Medical Conditions:\\n  * Hypertension: NO\\n  * Diabetes: NO\\n  * Alcoholism: NO\\n- Handicap: NO\\n- SMS Reminder Sent: NO\\n    - label: Yes'"
      ]
     },
     "execution_count": 217,
     "metadata": {},
     "output_type": "execute_result"
    }
   ],
   "source": [
    "train_data['text'][1]"
   ]
  },
  {
   "cell_type": "markdown",
   "metadata": {},
   "source": [
    "### Loading the model and tokenizer"
   ]
  },
  {
   "cell_type": "code",
   "execution_count": 218,
   "metadata": {},
   "outputs": [],
   "source": [
    "base_model_name = \"meta-llama/Meta-Llama-3.1-8B-instruct\""
   ]
  },
  {
   "cell_type": "code",
   "execution_count": 219,
   "metadata": {},
   "outputs": [
    {
     "data": {
      "application/vnd.jupyter.widget-view+json": {
       "model_id": "9b4fcf907f5a45e28175edceae6a1cf9",
       "version_major": 2,
       "version_minor": 0
      },
      "text/plain": [
       "Loading checkpoint shards:   0%|          | 0/4 [00:00<?, ?it/s]"
      ]
     },
     "metadata": {},
     "output_type": "display_data"
    }
   ],
   "source": [
    "bnb_config = BitsAndBytesConfig(\n",
    "    load_in_4bit=True,\n",
    "    bnb_4bit_use_double_quant=False,\n",
    "    bnb_4bit_quant_type=\"nf4\",\n",
    "    bnb_4bit_compute_dtype=\"float16\",\n",
    ")\n",
    "\n",
    "\n",
    "model = AutoModelForCausalLM.from_pretrained(\n",
    "    base_model_name,\n",
    "    device_map=\"auto\",\n",
    "    torch_dtype=\"float16\",\n",
    "    quantization_config=bnb_config, \n",
    ")\n",
    "\n",
    "model.config.use_cache = False\n",
    "model.config.pretraining_tp = 1"
   ]
  },
  {
   "cell_type": "code",
   "execution_count": 220,
   "metadata": {},
   "outputs": [],
   "source": [
    "tokenizer = AutoTokenizer.from_pretrained(base_model_name)\n",
    "\n",
    "tokenizer.pad_token_id = tokenizer.eos_token_id\n"
   ]
  },
  {
   "cell_type": "code",
   "execution_count": 221,
   "metadata": {},
   "outputs": [],
   "source": [
    "pipe = pipeline(task=\"text-generation\", \n",
    "                        model=model, \n",
    "                        tokenizer=tokenizer, \n",
    "                        max_new_tokens=2, \n",
    "                        temperature=0.1)"
   ]
  },
  {
   "cell_type": "markdown",
   "metadata": {},
   "source": [
    "### Model evalution before fine-tuning"
   ]
  },
  {
   "cell_type": "code",
   "execution_count": 222,
   "metadata": {},
   "outputs": [],
   "source": [
    "def predict(test, model, tokenizer, pipe):\n",
    "    y_pred = []\n",
    "    categories = [\"Yes\", \"No\"]\n",
    "    \n",
    "    for i in tqdm(range(len(test))):\n",
    "        prompt = test.iloc[i]['text']\n",
    "        \n",
    "        result = pipe(prompt)\n",
    "        answer = result[0]['generated_text'].split(\"label:\")[-1].strip()\n",
    "        \n",
    "        # Determine the predicted category\n",
    "        for category in categories:\n",
    "            if category.lower() in answer.lower():\n",
    "                y_pred.append(category)\n",
    "                break\n",
    "        else:\n",
    "            y_pred.append(\"none\")\n",
    "    \n",
    "    return y_pred"
   ]
  },
  {
   "cell_type": "code",
   "execution_count": 223,
   "metadata": {},
   "outputs": [
    {
     "name": "stderr",
     "output_type": "stream",
     "text": [
      "100%|██████████| 1000/1000 [02:00<00:00,  8.30it/s]\n"
     ]
    }
   ],
   "source": [
    "y_pred = predict(X_test, model, tokenizer, pipe)"
   ]
  },
  {
   "cell_type": "code",
   "execution_count": 224,
   "metadata": {},
   "outputs": [],
   "source": [
    "def evaluate(y_true, y_pred):\n",
    "    labels = [\"Yes\",\"No\"]\n",
    "    mapping = {label: idx for idx, label in enumerate(labels)}\n",
    "    \n",
    "    def map_func(x):\n",
    "        return mapping.get(x, -1)  # Map to -1 if not found, but should not occur with correct data\n",
    "    \n",
    "    y_true_mapped = np.vectorize(map_func)(y_true)\n",
    "    y_pred_mapped = np.vectorize(map_func)(y_pred)\n",
    "    \n",
    "    # Calculate accuracy\n",
    "    accuracy = accuracy_score(y_true=y_true_mapped, y_pred=y_pred_mapped)\n",
    "    print(f'Accuracy: {accuracy:.3f}')\n",
    "    \n",
    "    # Generate accuracy report\n",
    "    unique_labels = set(y_true_mapped)  # Get unique labels\n",
    "    \n",
    "    for label in unique_labels:\n",
    "        label_indices = [i for i in range(len(y_true_mapped)) if y_true_mapped[i] == label]\n",
    "        label_y_true = [y_true_mapped[i] for i in label_indices]\n",
    "        label_y_pred = [y_pred_mapped[i] for i in label_indices]\n",
    "        label_accuracy = accuracy_score(label_y_true, label_y_pred)\n",
    "        print(f'Accuracy for label {labels[label]}: {label_accuracy:.3f}')\n",
    "        \n",
    "    # Generate classification report\n",
    "    class_report = classification_report(y_true=y_true_mapped, y_pred=y_pred_mapped, target_names=labels, labels=list(range(len(labels))))\n",
    "    print('\\nClassification Report:')\n",
    "    print(class_report)\n",
    "    \n",
    "    # Generate confusion matrix\n",
    "    conf_matrix = confusion_matrix(y_true=y_true_mapped, y_pred=y_pred_mapped, labels=list(range(len(labels))))\n",
    "    print('\\nConfusion Matrix:')\n",
    "    print(conf_matrix)"
   ]
  },
  {
   "cell_type": "code",
   "execution_count": 225,
   "metadata": {},
   "outputs": [
    {
     "name": "stdout",
     "output_type": "stream",
     "text": [
      "Accuracy: 0.454\n",
      "Accuracy for label Yes: 0.393\n",
      "Accuracy for label No: 0.511\n",
      "\n",
      "Classification Report:\n",
      "              precision    recall  f1-score   support\n",
      "\n",
      "         Yes       0.43      0.39      0.41       481\n",
      "          No       0.48      0.51      0.49       519\n",
      "\n",
      "    accuracy                           0.45      1000\n",
      "   macro avg       0.45      0.45      0.45      1000\n",
      "weighted avg       0.45      0.45      0.45      1000\n",
      "\n",
      "\n",
      "Confusion Matrix:\n",
      "[[189 292]\n",
      " [254 265]]\n"
     ]
    }
   ],
   "source": [
    "evaluate(y_true, y_pred)"
   ]
  },
  {
   "cell_type": "markdown",
   "metadata": {},
   "source": [
    "### Extracting the linear modules names"
   ]
  },
  {
   "cell_type": "code",
   "execution_count": 226,
   "metadata": {},
   "outputs": [],
   "source": [
    "import bitsandbytes as bnb\n",
    "\n",
    "def find_all_linear_names(model):\n",
    "    cls = bnb.nn.Linear4bit\n",
    "    lora_module_names = set()\n",
    "    for name, module in model.named_modules():\n",
    "        if isinstance(module, cls):\n",
    "            names = name.split('.')\n",
    "            lora_module_names.add(names[0] if len(names) == 1 else names[-1])\n",
    "    if 'lm_head' in lora_module_names:  # needed for 16 bit\n",
    "        lora_module_names.remove('lm_head')\n",
    "    return list(lora_module_names)"
   ]
  },
  {
   "cell_type": "code",
   "execution_count": 227,
   "metadata": {},
   "outputs": [
    {
     "data": {
      "text/plain": [
       "['up_proj', 'q_proj', 'gate_proj', 'down_proj', 'o_proj', 'v_proj', 'k_proj']"
      ]
     },
     "execution_count": 227,
     "metadata": {},
     "output_type": "execute_result"
    }
   ],
   "source": [
    "modules = find_all_linear_names(model)\n",
    "modules"
   ]
  },
  {
   "cell_type": "markdown",
   "metadata": {},
   "source": [
    "### Setting up the model"
   ]
  },
  {
   "cell_type": "code",
   "execution_count": 228,
   "metadata": {},
   "outputs": [
    {
     "name": "stderr",
     "output_type": "stream",
     "text": [
      "/home/ubuntu/.local/lib/python3.10/site-packages/huggingface_hub/utils/_deprecation.py:100: FutureWarning: Deprecated argument(s) used in '__init__': dataset_text_field, max_seq_length, dataset_kwargs. Will not be supported from version '1.0.0'.\n",
      "\n",
      "Deprecated positional argument(s) used in SFTTrainer, please use the SFTConfig to set these arguments instead.\n",
      "  warnings.warn(message, FutureWarning)\n",
      "/home/ubuntu/.local/lib/python3.10/site-packages/trl/trainer/sft_trainer.py:283: UserWarning: You passed a `max_seq_length` argument to the SFTTrainer, the value you passed will override the one in the `SFTConfig`.\n",
      "  warnings.warn(\n",
      "/home/ubuntu/.local/lib/python3.10/site-packages/trl/trainer/sft_trainer.py:321: UserWarning: You passed a `dataset_text_field` argument to the SFTTrainer, the value you passed will override the one in the `SFTConfig`.\n",
      "  warnings.warn(\n",
      "/home/ubuntu/.local/lib/python3.10/site-packages/trl/trainer/sft_trainer.py:327: UserWarning: You passed a `dataset_kwargs` argument to the SFTTrainer, the value you passed will override the one in the `SFTConfig`.\n",
      "  warnings.warn(\n"
     ]
    },
    {
     "data": {
      "application/vnd.jupyter.widget-view+json": {
       "model_id": "00e2b0377dda49e88e1e25598b131cb8",
       "version_major": 2,
       "version_minor": 0
      },
      "text/plain": [
       "Map:   0%|          | 0/7000 [00:00<?, ? examples/s]"
      ]
     },
     "metadata": {},
     "output_type": "display_data"
    },
    {
     "data": {
      "application/vnd.jupyter.widget-view+json": {
       "model_id": "fd1f15a69211462dab19f7d640b67476",
       "version_major": 2,
       "version_minor": 0
      },
      "text/plain": [
       "Map:   0%|          | 0/2000 [00:00<?, ? examples/s]"
      ]
     },
     "metadata": {},
     "output_type": "display_data"
    }
   ],
   "source": [
    "output_dir=\"llama-3.1-fine-tuned-model\"\n",
    "\n",
    "peft_config = LoraConfig(\n",
    "    lora_alpha=16,\n",
    "    lora_dropout=0,\n",
    "    r=64,\n",
    "    bias=\"none\",\n",
    "    task_type=\"CAUSAL_LM\",\n",
    "    target_modules=modules,\n",
    ")\n",
    "\n",
    "training_arguments = TrainingArguments(\n",
    "    output_dir=output_dir,                    # directory to save and repository id\n",
    "    num_train_epochs=1,                       # number of training epochs\n",
    "    per_device_train_batch_size=1,            # batch size per device during training\n",
    "    gradient_accumulation_steps=8,            # number of steps before performing a backward/update pass\n",
    "    gradient_checkpointing=True,              # use gradient checkpointing to save memory\n",
    "    optim=\"paged_adamw_32bit\",\n",
    "    logging_steps=1,                         \n",
    "    learning_rate=2e-4,                       # learning rate, based on QLoRA paper\n",
    "    weight_decay=0.001,\n",
    "    fp16=True,\n",
    "    bf16=False,\n",
    "    max_grad_norm=0.3,                        # max gradient norm based on QLoRA paper\n",
    "    max_steps=-1,\n",
    "    warmup_ratio=0.03,                        # warmup ratio based on QLoRA paper\n",
    "    group_by_length=False,\n",
    "    lr_scheduler_type=\"cosine\",               # use cosine learning rate scheduler\n",
    "    eval_strategy=\"steps\",              # save checkpoint every epoch\n",
    "    eval_steps = 0.2\n",
    ")\n",
    "\n",
    "trainer = SFTTrainer(\n",
    "    model=model,\n",
    "    args=training_arguments,\n",
    "    train_dataset=train_data,\n",
    "    eval_dataset=eval_data,\n",
    "    peft_config=peft_config,\n",
    "    dataset_text_field=\"text\",\n",
    "    tokenizer=tokenizer,\n",
    "    max_seq_length=512,\n",
    "    packing=False,\n",
    "    dataset_kwargs={\n",
    "    \"add_special_tokens\": False,\n",
    "    \"append_concat_token\": False,\n",
    "    }\n",
    ")"
   ]
  },
  {
   "cell_type": "markdown",
   "metadata": {},
   "source": [
    "### Model Training"
   ]
  },
  {
   "cell_type": "code",
   "execution_count": 229,
   "metadata": {},
   "outputs": [
    {
     "data": {
      "text/html": [
       "\n",
       "    <div>\n",
       "      \n",
       "      <progress value='875' max='875' style='width:300px; height:20px; vertical-align: middle;'></progress>\n",
       "      [875/875 51:54, Epoch 1/1]\n",
       "    </div>\n",
       "    <table border=\"1\" class=\"dataframe\">\n",
       "  <thead>\n",
       " <tr style=\"text-align: left;\">\n",
       "      <th>Step</th>\n",
       "      <th>Training Loss</th>\n",
       "      <th>Validation Loss</th>\n",
       "    </tr>\n",
       "  </thead>\n",
       "  <tbody>\n",
       "    <tr>\n",
       "      <td>175</td>\n",
       "      <td>0.102500</td>\n",
       "      <td>0.104844</td>\n",
       "    </tr>\n",
       "    <tr>\n",
       "      <td>350</td>\n",
       "      <td>0.105300</td>\n",
       "      <td>0.103272</td>\n",
       "    </tr>\n",
       "    <tr>\n",
       "      <td>525</td>\n",
       "      <td>0.105300</td>\n",
       "      <td>0.102119</td>\n",
       "    </tr>\n",
       "    <tr>\n",
       "      <td>700</td>\n",
       "      <td>0.100800</td>\n",
       "      <td>0.101818</td>\n",
       "    </tr>\n",
       "    <tr>\n",
       "      <td>875</td>\n",
       "      <td>0.101200</td>\n",
       "      <td>0.101655</td>\n",
       "    </tr>\n",
       "  </tbody>\n",
       "</table><p>"
      ],
      "text/plain": [
       "<IPython.core.display.HTML object>"
      ]
     },
     "metadata": {},
     "output_type": "display_data"
    },
    {
     "data": {
      "text/plain": [
       "TrainOutput(global_step=875, training_loss=0.1283803700378963, metrics={'train_runtime': 3118.1266, 'train_samples_per_second': 2.245, 'train_steps_per_second': 0.281, 'total_flos': 7.4440504664064e+16, 'train_loss': 0.1283803700378963, 'epoch': 1.0})"
      ]
     },
     "execution_count": 229,
     "metadata": {},
     "output_type": "execute_result"
    }
   ],
   "source": [
    "# Train model\n",
    "trainer.train()"
   ]
  },
  {
   "cell_type": "code",
   "execution_count": 230,
   "metadata": {},
   "outputs": [],
   "source": [
    "# wandb.finish()\n",
    "# model.config.use_cache = True"
   ]
  },
  {
   "cell_type": "markdown",
   "metadata": {},
   "source": [
    "### Saving the model and tokenizer"
   ]
  },
  {
   "cell_type": "code",
   "execution_count": 231,
   "metadata": {},
   "outputs": [
    {
     "data": {
      "text/plain": [
       "('llama-3.1-fine-tuned-model/tokenizer_config.json',\n",
       " 'llama-3.1-fine-tuned-model/special_tokens_map.json',\n",
       " 'llama-3.1-fine-tuned-model/tokenizer.json')"
      ]
     },
     "execution_count": 231,
     "metadata": {},
     "output_type": "execute_result"
    }
   ],
   "source": [
    "# Save trained model and tokenizer\n",
    "trainer.save_model(output_dir)\n",
    "tokenizer.save_pretrained(output_dir)"
   ]
  },
  {
   "cell_type": "markdown",
   "metadata": {},
   "source": [
    "### Testing model after fine-tuning "
   ]
  },
  {
   "cell_type": "code",
   "execution_count": 232,
   "metadata": {},
   "outputs": [
    {
     "name": "stderr",
     "output_type": "stream",
     "text": [
      "100%|██████████| 1000/1000 [03:13<00:00,  5.17it/s]\n"
     ]
    },
    {
     "name": "stdout",
     "output_type": "stream",
     "text": [
      "Accuracy: 0.671\n",
      "Accuracy for label Yes: 0.863\n",
      "Accuracy for label No: 0.493\n",
      "\n",
      "Classification Report:\n",
      "              precision    recall  f1-score   support\n",
      "\n",
      "         Yes       0.61      0.86      0.72       481\n",
      "          No       0.80      0.49      0.61       519\n",
      "\n",
      "    accuracy                           0.67      1000\n",
      "   macro avg       0.70      0.68      0.66      1000\n",
      "weighted avg       0.71      0.67      0.66      1000\n",
      "\n",
      "\n",
      "Confusion Matrix:\n",
      "[[415  66]\n",
      " [263 256]]\n"
     ]
    }
   ],
   "source": [
    "y_pred = predict(X_test, model, tokenizer, pipe)\n",
    "evaluate(y_true, y_pred)"
   ]
  },
  {
   "cell_type": "code",
   "execution_count": null,
   "metadata": {},
   "outputs": [],
   "source": []
  }
 ],
 "metadata": {
  "kaggle": {
   "accelerator": "gpu",
   "dataSources": [
    {
     "datasetId": 5338273,
     "sourceId": 8870083,
     "sourceType": "datasetVersion"
    },
    {
     "datasetId": 5609372,
     "sourceId": 9269274,
     "sourceType": "datasetVersion"
    },
    {
     "modelId": 91102,
     "modelInstanceId": 68809,
     "sourceId": 81881,
     "sourceType": "modelInstanceVersion"
    }
   ],
   "dockerImageVersionId": 30747,
   "isGpuEnabled": true,
   "isInternetEnabled": true,
   "language": "python",
   "sourceType": "notebook"
  },
  "kernelspec": {
   "display_name": "Python 3 (ipykernel)",
   "language": "python",
   "name": "python3"
  },
  "language_info": {
   "codemirror_mode": {
    "name": "ipython",
    "version": 3
   },
   "file_extension": ".py",
   "mimetype": "text/x-python",
   "name": "python",
   "nbconvert_exporter": "python",
   "pygments_lexer": "ipython3",
   "version": "3.10.12"
  }
 },
 "nbformat": 4,
 "nbformat_minor": 4
}
